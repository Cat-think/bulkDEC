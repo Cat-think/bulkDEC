{
 "cells": [
  {
   "cell_type": "code",
   "execution_count": 1,
   "id": "fde9ee80",
   "metadata": {},
   "outputs": [],
   "source": [
    "from TAPE import Deconvolution\n",
    "from TAPE import simulation\n",
    "from TAPE.utils import ProcessInputData\n",
    "from TAPE.train import train_model, predict\n"
   ]
  },
  {
   "cell_type": "code",
   "outputs": [],
   "source": [
    "necessary_data = 'Kidney_ref.txt'\n",
    "real_bulk = 'Kidney_test.txt'\n",
    "datatype='counts'\n",
    "genelenfile='./GeneLength.txt'\n",
    "mode='overall'\n",
    "adaptive=True\n",
    "sep='\\t'"
   ],
   "metadata": {
    "collapsed": false
   },
   "id": "ec7aa889ef071fa8"
  },
  {
   "cell_type": "code",
   "outputs": [],
   "source": [
    "simudata = simulation.generate_simulated_data(sc_data=necessary_data, samplenum=5000, d_prior=None, sparse=True)"
   ],
   "metadata": {
    "collapsed": false
   },
   "id": "9140e18cfc72573d"
  },
  {
   "cell_type": "code",
   "outputs": [],
   "source": [
    "train_x, train_y, test_x, genename, celltypes, samplename = \\\n",
    "        ProcessInputData(simudata, real_bulk, sep=sep, datatype=datatype, genelenfile=genelenfile)"
   ],
   "metadata": {
    "collapsed": false
   },
   "id": "f078d26a982483d2"
  },
  {
   "cell_type": "code",
   "outputs": [],
   "source": [
    "model = train_model(train_x, train_y)"
   ],
   "metadata": {
    "collapsed": false
   },
   "id": "6270cae4bba75a"
  },
  {
   "cell_type": "code",
   "outputs": [],
   "source": [
    "Sigm, Pred = \\\n",
    "                predict(test_x=test_x, genename=genename, celltypes=celltypes, samplename=samplename,\n",
    "                        model=model, adaptive=adaptive, mode=mode)"
   ],
   "metadata": {
    "collapsed": false
   },
   "id": "4223039d89ec1dbd"
  },
  {
   "cell_type": "code",
   "outputs": [],
   "source": [],
   "metadata": {
    "collapsed": false
   },
   "id": "dfabd348808ee906"
  }
 ],
 "metadata": {
  "kernelspec": {
   "display_name": "Python 3 (ipykernel)",
   "language": "python",
   "name": "python3"
  },
  "language_info": {
   "codemirror_mode": {
    "name": "ipython",
    "version": 3
   },
   "file_extension": ".py",
   "mimetype": "text/x-python",
   "name": "python",
   "nbconvert_exporter": "python",
   "pygments_lexer": "ipython3",
   "version": "3.7.11"
  }
 },
 "nbformat": 4,
 "nbformat_minor": 5
}
